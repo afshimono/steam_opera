{
 "cells": [
  {
   "cell_type": "markdown",
   "id": "c1c15072-148f-42be-98e5-28003231d431",
   "metadata": {},
   "source": [
    "# Steam Profile Opera - Creating Stories/Reports from Steam Usage\n",
    "\n",
    "First step is to install the required libraries and make sure we do not have any dependency issue before we start."
   ]
  },
  {
   "cell_type": "code",
   "execution_count": null,
   "id": "02193a00-8226-46bd-b2ac-2acc333e033a",
   "metadata": {},
   "outputs": [],
   "source": [
    "from IPython.utils import io\n",
    "\n",
    "# Import Block\n",
    "import datetime as dt\n",
    "import time\n",
    "import json\n",
    "from typing import List, Dict, Optional\n",
    "import os\n",
    "import math\n",
    "import sys\n",
    "sys.path.append(\"../steam_scrapper/\")\n",
    "from dataclasses import asdict\n",
    "\n",
    "import requests\n",
    "import pandas as pd\n",
    "import numpy as np\n",
    "import pandas as pd\n",
    "\n",
    "import seaborn as sns\n",
    "import matplotlib.pyplot as plt\n",
    "import plotly.express as px\n",
    "import plotly.offline as offline\n",
    "from dotenv import load_dotenv\n",
    "\n",
    "from repos.repo import Repo\n",
    "from repos.mongo_repo import SteamMongo\n",
    "\n",
    "with io.capture_output() as captured: \n",
    "\n",
    "    # connects to DB\n",
    "    mongo_db_url = os.environ.get(\"MONGO_DB_URL\")\n",
    "    repo = SteamMongo(mongo_url=mongo_db_url)\n",
    "    \n",
    "    # sets time values\n",
    "    current_time = dt.datetime.now()\n",
    "    two_weeks_ago = current_time - dt.timedelta(weeks=2)\n",
    "    current_year = current_time.year\n",
    "    current_month = current_time.month\n",
    "    \n",
    "    offline.init_notebook_mode()\n"
   ]
  },
  {
   "cell_type": "code",
   "execution_count": null,
   "id": "cf22b8d6-1340-4f78-bd74-815e20291cc8",
   "metadata": {},
   "outputs": [],
   "source": [
    "# Retrieving Constants.\n",
    "PLAYER_ID= os.environ.get(\"PLAYER_ID\")\n",
    "RUN_FRIENDS_STATS = os.environ.get(\"RUN_FRIENDS_STATS\") == \"True\""
   ]
  },
  {
   "cell_type": "code",
   "execution_count": null,
   "id": "8a012344-a19e-4bbd-a172-ac774cfd79e7",
   "metadata": {},
   "outputs": [],
   "source": [
    "# Retrieves current user data\n",
    "player_data = repo.get_player_info_by_id_list([PLAYER_ID])[0]\n",
    "player_data = asdict(player_data)"
   ]
  },
  {
   "cell_type": "code",
   "execution_count": null,
   "id": "fcc0b981-0712-499b-9472-7777146e61a8",
   "metadata": {},
   "outputs": [],
   "source": [
    "print(f\"Generating data for the profile {player_data['persona_name']} on {dt.datetime.now().strftime('%d/%m/%Y')}\")"
   ]
  },
  {
   "cell_type": "code",
   "execution_count": null,
   "id": "d3d83a74-893c-498d-8c48-511721945f77",
   "metadata": {},
   "outputs": [],
   "source": [
    "friend_list_ids_list = repo.get_friend_list_by_id(player_id=PLAYER_ID)[-1].friend_list\n",
    "friend_list_ids = [item.steamid for item in friend_list_ids_list]\n",
    "if friend_list_ids:\n",
    "    friends_data = repo.get_player_info_by_id_list(friend_list_ids)\n",
    "    friends_data = [asdict(item) for item in friends_data]\n",
    "    friends_df = pd.DataFrame.from_dict(friends_data + [player_data])\n",
    "    friends_df[\"last_year_online\"] = friends_df[\"last_logoff\"].apply(lambda x: dt.datetime.fromtimestamp(x).year if not math.isnan(x) else 0)\n",
    "    friends_df[\"loccountrycode\"] = friends_df[\"loc_country\"].fillna(\"Not Informed\")\n",
    "    FRIEND_LIST_AVAILABLE = True\n",
    "else:\n",
    "    friends_df = pd.DataFrame()\n",
    "    FRIEND_LIST_AVAILABLE = False\n",
    "    print(\"Friend List is not available for this steam id.\")"
   ]
  },
  {
   "cell_type": "code",
   "execution_count": null,
   "id": "f30defe8-005e-449b-a8fc-f7005d7fcefa",
   "metadata": {},
   "outputs": [],
   "source": [
    "# Count Friends by Country\n",
    "if FRIEND_LIST_AVAILABLE:\n",
    "    fig = px.histogram(friends_df, x=\"loccountrycode\", color=\"loccountrycode\",\n",
    "                        labels={\n",
    "                            \"loccountrycode\":\"Country Code\"\n",
    "                        },\n",
    "                        title=\"Friends per Country\",\n",
    "                        color_discrete_sequence=px.colors.qualitative.Pastel,\n",
    "                        width=640,\n",
    "                        height=480)\n",
    "    fig.show()"
   ]
  },
  {
   "cell_type": "markdown",
   "id": "06b52a82-04a8-41d6-a9a2-bd00e7c4d025",
   "metadata": {},
   "source": [
    "## Gameplay Information\n",
    "\n",
    "If the user has available information regarding Total Gameplay, it will show here."
   ]
  },
  {
   "cell_type": "code",
   "execution_count": null,
   "id": "f9708b53-385f-4493-8007-e818b101fdd0",
   "metadata": {},
   "outputs": [],
   "source": [
    "\n",
    "def fetch_gameplay_info(player_ids:str, current_year:int=None, current_month:int=None):\n",
    "    \"\"\"\n",
    "    Fetches the list of games and played time for a player id.\n",
    "    \"\"\"\n",
    "    all_gameplay = repo.get_gameplay_info_by_id_list(player_ids, created_year=current_year, created_month=current_month)\n",
    "    final_gameplay = []\n",
    "    for gameplay_list in all_gameplay:\n",
    "        for gameplay_item in gameplay_list.gameplay_list:\n",
    "            final_item = asdict(gameplay_item)\n",
    "            final_item[\"player_id\"] = gameplay_list.steamid\n",
    "            final_gameplay.append(final_item)\n",
    "    return final_gameplay"
   ]
  },
  {
   "cell_type": "code",
   "execution_count": null,
   "id": "41a51340-1580-4f96-bae0-86757c6bf986",
   "metadata": {},
   "outputs": [],
   "source": [
    "# fetch_gameplay_info(PLAYER_ID)"
   ]
  },
  {
   "cell_type": "code",
   "execution_count": null,
   "id": "d482918f-d1b2-46d4-aa36-89430a2934f6",
   "metadata": {},
   "outputs": [],
   "source": [
    "def get_game_details(appids:List[str]):\n",
    "    \"\"\"\n",
    "    Retrieves game details from MongoDB\n",
    "    \"\"\"\n",
    "    all_gameinfo = repo.get_game_info_by_game_id_list(game_id_list=appids)\n",
    "    return [asdict(item) for item in all_gameinfo]"
   ]
  },
  {
   "cell_type": "code",
   "execution_count": null,
   "id": "df867cb9-8a9e-446e-9b15-03c65ec150d7",
   "metadata": {},
   "outputs": [],
   "source": [
    "# get_game_details([\"4000\"])"
   ]
  },
  {
   "cell_type": "code",
   "execution_count": null,
   "id": "b2366125-3dab-47a5-8df1-e27b5d64c4ce",
   "metadata": {},
   "outputs": [],
   "source": [
    "def build_df_for_users(player_ids:str, who_is:str=None ):\n",
    "\n",
    "    all_gameplay_list = fetch_gameplay_info(player_ids.split(\",\"), current_year, current_month)\n",
    "    \n",
    "    \n",
    "    if not all_gameplay_list:\n",
    "        return pd.DataFrame()\n",
    "\n",
    "    game_id_list = list(set([entry[\"appid\"] for entry in all_gameplay_list]))\n",
    "    game_details_list = []\n",
    "\n",
    "    game_data_list = get_game_details(game_id_list)\n",
    "\n",
    "    for game_data in game_data_list:\n",
    "  \n",
    "        game_info = {\n",
    "            \"appid\": game_data[\"appid\"],\n",
    "            \"name\": game_data[\"name\"],\n",
    "            \"genres\": game_data.get(\"genres\"),\n",
    "            \"metacritic\":game_data.get(\"metacritic_score\"),\n",
    "            \"short_description\":game_data.get(\"description\"),\n",
    "            \"categories\":game_data.get(\"categories\"),\n",
    "            \"release_date\":game_data.get(\"release_date\"),\n",
    "            \"developers\":game_data.get(\"developers\"),\n",
    "            \"publishers\":game_data.get(\"publishers\"),\n",
    "            \"is_free\": game_data.get(\"is_free\"),\n",
    "            \"type\": game_data.get(\"type\"),\n",
    "            \"age\": game_data.get(\"age\"),\n",
    "        }\n",
    "\n",
    "        if who_is:\n",
    "            game_info.update({\n",
    "            \"who_is\": who_is\n",
    "        })\n",
    "        game_details_list.append(game_info)\n",
    "            \n",
    "    gameplay_df = pd.DataFrame.from_dict(all_gameplay_list)\n",
    "    game_info_df = pd.DataFrame.from_dict(game_details_list)\n",
    "    result = pd.merge(gameplay_df,game_info_df, how=\"left\",left_on=\"appid\",right_on=\"appid\")\n",
    "\n",
    "\n",
    "    result[\"metacritic_score\"] = result[\"metacritic\"]\n",
    "    result[\"release_year\"] = result[\"release_date\"].apply(lambda x: x.year)\n",
    "    result[\"pc_developer\"] = result[\"developers\"].apply(lambda x: x[0] if type(x)==list and len(x) > 0 else None)\n",
    "    result[\"genres_list\"] = result[\"genres\"]\n",
    "    result[\"playtime_forever\"] = result[\"playtime\"]\n",
    "\n",
    "    return result\n",
    "\n",
    "        "
   ]
  },
  {
   "cell_type": "code",
   "execution_count": null,
   "id": "119694ac-32d7-4a4a-bbd1-d15c926de7bb",
   "metadata": {},
   "outputs": [],
   "source": [
    "gameplay_df = build_df_for_users(PLAYER_ID, who_is=\"me\") \n",
    "# gameplay_df = build_df_for_user(76561198021990176)"
   ]
  },
  {
   "cell_type": "code",
   "execution_count": null,
   "id": "68108833-e5be-4ea5-adc7-5859914feb6e",
   "metadata": {},
   "outputs": [],
   "source": [
    "exploded_genre_list = gameplay_df[[\"name\",\"genres_list\",\"playtime_forever\"]].explode(\"genres_list\")\n",
    "exploded_genre_list[\"playtime_forever\"] = exploded_genre_list[\"playtime_forever\"].apply(lambda x: x//60)\n",
    "exploded_genre_list.reset_index(inplace=True)\n",
    "top_10_count_by_genre = exploded_genre_list.groupby(['genres_list'])\\\n",
    "    .agg({'genres_list':'count'})\\\n",
    "    .rename(columns={'genres_list':'count_genres_list'})\\\n",
    "    .sort_values('count_genres_list', ascending=False)\\\n",
    "    .head(10).copy()"
   ]
  },
  {
   "cell_type": "code",
   "execution_count": null,
   "id": "80513fb8-6a3c-4ae0-97a2-810bbfdcec6b",
   "metadata": {},
   "outputs": [],
   "source": [
    "top_10_count_by_genre = top_10_count_by_genre.reset_index()\n",
    "fig = px.bar(top_10_count_by_genre, x='count_genres_list', y='genres_list', color=\"genres_list\",\n",
    "            labels={\n",
    "                \"count_genres_list\":\"Count of Games\",\n",
    "                \"genres_list\":\"Genre\"\n",
    "            },\n",
    "            title=\"Count of Games by Genre\",\n",
    "            color_discrete_sequence=px.colors.qualitative.Pastel,\n",
    "            width=640,\n",
    "            height=480)\n",
    "fig.update_layout(showlegend=False)\n",
    "fig.show()"
   ]
  },
  {
   "cell_type": "code",
   "execution_count": null,
   "id": "d11f3a2a-02a4-4a9e-b079-6bd0efe150fc",
   "metadata": {},
   "outputs": [],
   "source": [
    "top_10_playtime_by_genre = exploded_genre_list.groupby(['genres_list'])\\\n",
    "    .agg({'playtime_forever':'sum'})\\\n",
    "    .rename(columns={'playtime_forever':'sum_playtime_forever'})\\\n",
    "    .sort_values('sum_playtime_forever', ascending=False)\\\n",
    "    .head(10).copy()\n",
    "top_10_playtime_by_genre = top_10_playtime_by_genre.reset_index()\n",
    "fig = px.bar(top_10_playtime_by_genre, x='sum_playtime_forever', y='genres_list', color=\"genres_list\",\n",
    "            labels={\n",
    "                \"sum_playtime_forever\":\"Playtime in hours\",\n",
    "                \"genres_list\":\"Genre\"\n",
    "            },\n",
    "            title=\"Total Playtime by Genre\",\n",
    "            color_discrete_sequence=px.colors.qualitative.Pastel,\n",
    "            width=640,\n",
    "            height=480)\n",
    "fig.update_layout(showlegend=False)\n",
    "fig.show()"
   ]
  },
  {
   "cell_type": "code",
   "execution_count": null,
   "id": "334d8762-4595-4ace-bcb3-f6fa57ee50a9",
   "metadata": {},
   "outputs": [],
   "source": [
    "# Count By Release Year\n",
    "fig = px.histogram(gameplay_df[gameplay_df[\"release_year\"]>0], x=\"release_year\", color=\"release_year\",\n",
    "        labels={\n",
    "            \"release_year\":\"Year\"\n",
    "        },\n",
    "        title=\"Games by Year Released\",\n",
    "        color_discrete_sequence=px.colors.qualitative.Pastel,\n",
    "        width=640,\n",
    "        height=480)\n",
    "fig.update_layout(showlegend=False)\n",
    "fig.update_layout(bargap=0.2)\n",
    "fig.show()"
   ]
  },
  {
   "cell_type": "code",
   "execution_count": null,
   "id": "943b2924-24ee-44bd-86c3-25a89ba40219",
   "metadata": {},
   "outputs": [],
   "source": [
    "# My top 10 Games by Play Time\n",
    "\n",
    "my_top_10 = gameplay_df.sort_values(\"playtime_forever\", ascending=False).head(10).copy()\n",
    "my_top_10[\"playtime_forever\"] = my_top_10[\"playtime_forever\"].apply(lambda x: x//60)\n",
    "fig = px.bar(my_top_10, x='playtime_forever', y='name', color=\"name\",\n",
    "            labels={\n",
    "                \"playtime_forever\":\"Playtime in Hours\",\n",
    "                \"name\":\"Game Name\"\n",
    "            },\n",
    "            title=\"Top 10 Most Played Games\",\n",
    "            color_discrete_sequence=px.colors.qualitative.Pastel,\n",
    "            width=960,\n",
    "            height=480)\n",
    "fig.update_layout(showlegend=False)\n",
    "fig.show()"
   ]
  },
  {
   "cell_type": "code",
   "execution_count": null,
   "id": "600e1748-753d-4da4-9ec5-a16a58f085e2",
   "metadata": {},
   "outputs": [],
   "source": [
    "\n",
    "fig = px.scatter(gameplay_df[(gameplay_df[\"playtime_forever\"]>30)&(gameplay_df[\"metacritic_score\"].notnull())], x=\"release_year\", y=\"playtime_forever\",\n",
    "                 color=\"metacritic_score\",\n",
    "                 hover_data=['metacritic_score', 'release_year', 'playtime_forever','name'],\n",
    "                labels={\n",
    "                \"name\": \"Game\",\n",
    "                \"release_year\":\"Release Year\",\n",
    "                \"playtime_forever\":\"Play Time in Minutes\",\n",
    "                \"metacritic_score\":\"Metacritic\"\n",
    "                },\n",
    "                title=\"Playtime by Game Release Year and Metacritic Score\",\n",
    "                color_continuous_scale=\"bluered\",\n",
    "                width=640,\n",
    "                height=480)\n",
    "fig.show()\n"
   ]
  },
  {
   "cell_type": "code",
   "execution_count": null,
   "id": "2736adb0-6e31-433d-8e90-fe208bfe4954",
   "metadata": {},
   "outputs": [],
   "source": [
    "# Count by Metacritic\n",
    "fig = px.histogram(gameplay_df, x=\"metacritic_score\", color=\"metacritic_score\",\n",
    "        labels={\n",
    "            \"metacritic_score\":\"Metacritic Score\"\n",
    "        },\n",
    "        title=\"Game Count by Metacritic Score\",\n",
    "        color_discrete_sequence=px.colors.qualitative.Pastel,\n",
    "        width=640,\n",
    "        height=480)\n",
    "fig.update_layout(showlegend=False)\n",
    "fig.update_layout(bargap=0.2)\n",
    "fig.show()"
   ]
  },
  {
   "cell_type": "code",
   "execution_count": null,
   "id": "97c5bd0d-3fb2-4fbb-8237-e40ff50bb106",
   "metadata": {},
   "outputs": [],
   "source": [
    "# Top 10 count by developer\n",
    "count_by_developer_df = gameplay_df.groupby(['pc_developer'])\\\n",
    "    .agg({'pc_developer':'count'})\\\n",
    "    .rename(columns={'pc_developer':'count_pc_developer'})\\\n",
    "    .sort_values('count_pc_developer', ascending=False)\\\n",
    "    .head(10)"
   ]
  },
  {
   "cell_type": "code",
   "execution_count": null,
   "id": "ede80b53-8e21-4a31-8d08-3bbf0432bde5",
   "metadata": {},
   "outputs": [],
   "source": [
    "fig = px.bar(count_by_developer_df.reset_index(), x='count_pc_developer', y='pc_developer', color=\"pc_developer\",\n",
    "            labels={\n",
    "                \"count_pc_developer\":\"Count of Games\",\n",
    "                \"pc_developer\":\"Developer\"\n",
    "            },\n",
    "            title=\"Count of Games per Developer\",\n",
    "            color_discrete_sequence=px.colors.qualitative.Pastel,\n",
    "            width=640,\n",
    "            height=480)\n",
    "fig.update_layout(showlegend=False)\n",
    "fig.show()"
   ]
  },
  {
   "cell_type": "code",
   "execution_count": null,
   "id": "873abba3-5b49-4233-a004-270624c9c431",
   "metadata": {},
   "outputs": [],
   "source": [
    "# Top 10 playtime by developer\n",
    "count_by_developer_df = gameplay_df.groupby(['pc_developer'])\\\n",
    "    .agg({\"playtime_forever\":\"sum\"})\\\n",
    "    .rename(columns={'playtime_forever':'sum_playtime_forever'})\\\n",
    "    .sort_values('sum_playtime_forever', ascending=False)\\\n",
    "    .head(10)\n",
    "count_by_developer_df[\"sum_playtime_forever\"] = count_by_developer_df[\"sum_playtime_forever\"].apply(lambda x: x//60)"
   ]
  },
  {
   "cell_type": "code",
   "execution_count": null,
   "id": "51e6ef26-c8e1-42ea-8ac5-b5743813f083",
   "metadata": {},
   "outputs": [],
   "source": [
    "fig = px.bar(count_by_developer_df.reset_index(), x='sum_playtime_forever', y='pc_developer', color=\"pc_developer\",\n",
    "            labels={\n",
    "                \"sum_playtime_forever\":\"Playtime in Hours\",\n",
    "                \"pc_developer\":\"Developer\"\n",
    "            },\n",
    "            title=\"Playtime by Game Developer\",\n",
    "            color_discrete_sequence=px.colors.qualitative.Pastel,\n",
    "            width=640,\n",
    "            height=480)\n",
    "fig.update_layout(showlegend=False)\n",
    "fig.show()"
   ]
  },
  {
   "cell_type": "code",
   "execution_count": null,
   "id": "c3afc03d-36a2-4115-b52a-56c11743b836",
   "metadata": {},
   "outputs": [],
   "source": [
    "# Top 10 best rated in metacritid with less than 30 min\n",
    "unplayed_games_df = gameplay_df[gameplay_df[\"playtime_forever\"]<30]\\\n",
    "    .sort_values('metacritic_score', ascending=False)\\\n",
    "    .head(10)"
   ]
  },
  {
   "cell_type": "code",
   "execution_count": null,
   "id": "01879aae-7074-4d7d-8c9c-0286a6401fd3",
   "metadata": {},
   "outputs": [],
   "source": [
    "fig = px.bar(unplayed_games_df.reset_index(), x='metacritic_score', y='name', color=\"playtime_forever\",\n",
    "            labels={\n",
    "                \"name\":\"Game\",\n",
    "                \"metacritic_score\":\"Metacritic Score\"\n",
    "            },\n",
    "            title=\"Never Played Games by Metacritic\",\n",
    "            color_discrete_sequence=px.colors.qualitative.Pastel,\n",
    "            width=960,\n",
    "            height=480)\n",
    "fig.update_layout(showlegend=False)\n",
    "fig.show()"
   ]
  },
  {
   "cell_type": "markdown",
   "id": "52ce1668-21c6-4e13-82da-8c2cbc5e0f79",
   "metadata": {},
   "source": [
    "## Friends Gameplay Information\n",
    "\n",
    "If the user has available information regarding Friend List, it will show here.\n",
    "\n"
   ]
  },
  {
   "cell_type": "code",
   "execution_count": null,
   "id": "f459def6-bfa1-48a5-9418-8ef069149d1a",
   "metadata": {},
   "outputs": [],
   "source": [
    "RUN_FRIENDS_STATS=True"
   ]
  },
  {
   "cell_type": "code",
   "execution_count": null,
   "id": "06e156bf-de46-4e56-a2be-76d003ddb5aa",
   "metadata": {},
   "outputs": [],
   "source": [
    "with io.capture_output() as captured:\n",
    "    if RUN_FRIENDS_STATS and FRIEND_LIST_AVAILABLE:\n",
    "        all_gameplay_df = gameplay_df.copy()\n",
    "        friend_gameplay_df = build_df_for_users(\",\".join(friend_list_ids), who_is=\"friend\")\n",
    "        all_gameplay_df = pd.concat([all_gameplay_df,friend_gameplay_df])"
   ]
  },
  {
   "cell_type": "code",
   "execution_count": null,
   "id": "dbc9f7de-9c79-4f10-9e4f-36a63f60ada4",
   "metadata": {},
   "outputs": [],
   "source": [
    "if RUN_FRIENDS_STATS and FRIEND_LIST_AVAILABLE:\n",
    "    final_gameplay_players_df = pd.merge(all_gameplay_df,friends_df[[\"steamid\",\"persona_name\",\"real_name\",\"loccountrycode\",\"last_year_online\",\"avatar\" ]], how=\"left\",left_on=\"player_id\",right_on=\"steamid\")\n",
    "    my_top_5 = gameplay_df.sort_values(\"playtime_forever\", ascending=False).head(5)[\"name\"]\n",
    "    played_all_gameplay_df = final_gameplay_players_df[final_gameplay_players_df[\"playtime_forever\"] > 60].copy()\n",
    "    played_all_gameplay_df[\"playtime_forever\"] = played_all_gameplay_df[\"playtime_forever\"].apply(lambda x: x//60)\n",
    "    \n"
   ]
  },
  {
   "cell_type": "code",
   "execution_count": null,
   "id": "b539ef05-d87f-4a94-9ba7-c24339502b51",
   "metadata": {},
   "outputs": [],
   "source": [
    "if RUN_FRIENDS_STATS and FRIEND_LIST_AVAILABLE:\n",
    "    fig = px.strip(played_all_gameplay_df[played_all_gameplay_df[\"name\"].isin(my_top_5)], \n",
    "                        x=\"playtime_forever\", y=\"name\", color='who_is',\n",
    "                       hover_data=[  'playtime_forever','persona_name'],\n",
    "                        labels={\n",
    "                        \"persona_name\":\"Steam Name\",\n",
    "                        \"who_is\":\"Friend\",\n",
    "                        \"name\":\"Game\",\n",
    "                        \"playtime_forever\":\"Playtime in Hours\"\n",
    "                        },\n",
    "                        title=\"My Top 5 Games by Playtime\",\n",
    "                        color_discrete_sequence=px.colors.qualitative.Pastel,\n",
    "                        width=640,\n",
    "                        height=480)\n",
    "    fig.show()"
   ]
  },
  {
   "cell_type": "code",
   "execution_count": null,
   "id": "919575fe-7dd9-4635-8867-10219fd635de",
   "metadata": {},
   "outputs": [],
   "source": [
    "if RUN_FRIENDS_STATS and FRIEND_LIST_AVAILABLE:\n",
    "    # Merge DFs\n",
    "    final_gameplay_players_df = pd.merge(all_gameplay_df,friends_df[[\"steamid\",\"persona_name\",\"real_name\",\"loccountrycode\",\"last_year_online\",\"avatar\" ]], how=\"left\",left_on=\"player_id\",right_on=\"steamid\")\n"
   ]
  },
  {
   "cell_type": "code",
   "execution_count": null,
   "id": "f96c4acf-c25c-48ed-9654-58977ea21f5a",
   "metadata": {},
   "outputs": [],
   "source": [
    "if RUN_FRIENDS_STATS and FRIEND_LIST_AVAILABLE:\n",
    "    top_10_gameplay = final_gameplay_players_df.groupby(['steamid','persona_name'], as_index=False)\\\n",
    "        .agg({\"playtime_forever\":\"sum\"}, axis=\"columns\")\\\n",
    "        .sort_values(ascending=False, by=\"playtime_forever\")\\\n",
    "        .head(10)\n",
    "    top_10_gameplay[\"playtime_forever\"] = top_10_gameplay[\"playtime_forever\"].apply(lambda x: x//60)\n"
   ]
  },
  {
   "cell_type": "code",
   "execution_count": null,
   "id": "640f0f83-7763-4f77-9172-53fbfabf4bf3",
   "metadata": {},
   "outputs": [],
   "source": [
    "if RUN_FRIENDS_STATS and FRIEND_LIST_AVAILABLE:\n",
    "    fig = px.bar(top_10_gameplay.reset_index(), x='playtime_forever', y='persona_name', color=\"persona_name\",\n",
    "                labels={\n",
    "                    \"playtime_forever\":\"Playtime in Hours\",\n",
    "                    \"persona_name\":\"Steam Name\"\n",
    "                },\n",
    "                title=\"Who played the most?\",\n",
    "                color_discrete_sequence=px.colors.qualitative.Pastel,\n",
    "                width=640,\n",
    "                height=480)\n",
    "    fig.update_layout(showlegend=False)\n",
    "    fig.show()"
   ]
  },
  {
   "cell_type": "code",
   "execution_count": null,
   "id": "40dff44e-a17a-4414-bddc-e33b4e188d40",
   "metadata": {},
   "outputs": [],
   "source": []
  }
 ],
 "metadata": {
  "kernelspec": {
   "display_name": "Python 3 (ipykernel)",
   "language": "python",
   "name": "python3"
  },
  "language_info": {
   "codemirror_mode": {
    "name": "ipython",
    "version": 3
   },
   "file_extension": ".py",
   "mimetype": "text/x-python",
   "name": "python",
   "nbconvert_exporter": "python",
   "pygments_lexer": "ipython3",
   "version": "3.11.6"
  }
 },
 "nbformat": 4,
 "nbformat_minor": 5
}
