{
 "cells": [
  {
   "cell_type": "markdown",
   "id": "c1c15072-148f-42be-98e5-28003231d431",
   "metadata": {},
   "source": [
    "# Steam Profile Opera - Creating Stories/Reports from Steam Usage\n",
    "\n",
    "First step is to install the required libraries and make sure we do not have any dependency issue before we start."
   ]
  },
  {
   "cell_type": "code",
   "execution_count": null,
   "id": "02193a00-8226-46bd-b2ac-2acc333e033a",
   "metadata": {},
   "outputs": [],
   "source": [
    "# Import Block\n",
    "import datetime as dt\n",
    "import time\n",
    "import json\n",
    "from typing import List, Dict, Optional\n",
    "import os\n",
    "import math\n",
    "\n",
    "import requests\n",
    "import pandas as pd\n",
    "import numpy as np\n",
    "from tinydb import TinyDB, Query\n",
    "from tinydb.storages import JSONStorage\n",
    "from tinydb_serialization import SerializationMiddleware\n",
    "from tinydb_serialization.serializers import DateTimeSerializer\n",
    "import pandas as pd\n",
    "\n",
    "import seaborn as sns\n",
    "import matplotlib.pyplot as plt\n",
    "import plotly.express as px\n",
    "import plotly.offline as offline\n",
    "from dotenv import load_dotenv\n",
    "\n",
    "# sets time values\n",
    "current_time = dt.datetime.now()\n",
    "two_weeks_ago = current_time - dt.timedelta(weeks=2)\n",
    "year_month_str = f\"{current_time.year}-{current_time.month}\"\n",
    "print(f\"Year-Month = {year_month_str}\")\n",
    "\n",
    "# Starts DB\n",
    "serialization = SerializationMiddleware(JSONStorage)\n",
    "serialization.register_serializer(DateTimeSerializer(), 'TinyDate')\n",
    "db = TinyDB('db.json', storage=serialization)\n",
    "users_tb = db.table('users', cache_size=200)\n",
    "games_tb = db.table('games', cache_size=400)\n",
    "gameplay_tb = db.table('gameplay', cache_size=1000)\n",
    "friend_list_tb = db.table('friends', cache_size=200)\n",
    "\n",
    "offline.init_notebook_mode()\n"
   ]
  },
  {
   "cell_type": "markdown",
   "id": "be107f6a-58fc-4429-8c86-f3404855dac7",
   "metadata": {},
   "source": [
    "## Retrieving Constants\n",
    "\n",
    "This will fetch the information from your `.env` file."
   ]
  },
  {
   "cell_type": "code",
   "execution_count": null,
   "id": "cf22b8d6-1340-4f78-bd74-815e20291cc8",
   "metadata": {},
   "outputs": [],
   "source": [
    "# Retrieving Constants.\n",
    "load_dotenv()\n",
    "STEAM_KEY= os.environ.get(\"STEAM_KEY\")\n",
    "PLAYER_ID= os.environ.get(\"PLAYER_ID\")\n",
    "RUN_FRIENDS_STATS = os.environ.get(\"RUN_FRIENDS_STATS\") == \"True\"\n",
    "CLEAN_USER_DB= os.environ.get(\"CLEAN_USER_DB\") == \"True\"\n",
    "CLEAN_GAMEPLAY_DB= os.environ.get(\"CLEAN_GAMEPLAY_DB\") == \"True\""
   ]
  },
  {
   "cell_type": "code",
   "execution_count": null,
   "id": "6b54ea0f-e870-4132-9596-53688e303f43",
   "metadata": {},
   "outputs": [],
   "source": [
    "def get_player_data(player_ids:str, year_month:str=None):\n",
    "    \"\"\"\n",
    "    Retrives user data from DB and if not available will use the Steam API.\n",
    "    \"\"\"\n",
    "    id_list = player_ids.split(\",\")\n",
    "    missing_steam_ids = []\n",
    "    result = []\n",
    "\n",
    "    \"\"\"\n",
    "    for steam_id in id_list:\n",
    "        if year_month:\n",
    "            user_query = Query()\n",
    "            user = users_tb.search((user_query.steamid == steam_id)&(user_query.year_month == year_month))\n",
    "            if len(user) > 0:\n",
    "                # print(f\"User Found {user[0]}\")\n",
    "                result.append(user[0])\n",
    "        if not year_month or not user:\n",
    "            missing_steam_ids.append(steam_id)\n",
    "    \"\"\"\n",
    "\n",
    "    if year_month:\n",
    "        user_query = Query()\n",
    "        user_list = users_tb.search((user_query.steamid.one_of(id_list))&(user_query.year_month == year_month))\n",
    "        retrieved_id_list = [user[\"steamid\"] for user in user_list]\n",
    "        missing_steam_ids += [player_id for player_id in id_list if player_id not in retrieved_id_list ]\n",
    "        result += user_list\n",
    "    \n",
    "    print(f\"Retrieved {len(result)} users from DB.\")\n",
    "    print(f\"{len(missing_steam_ids)} users will be fetched from the API.\")\n",
    "    if missing_steam_ids:\n",
    "        print(f\"Fetching player data for {len(missing_steam_ids)} players.\")\n",
    "        missing_steam_id_str = \",\".join(missing_steam_ids)\n",
    "        player_url = f\"http://api.steampowered.com/ISteamUser/GetPlayerSummaries/v0002/?key={STEAM_KEY}&steamids={player_ids}\"\n",
    "        r = requests.get(player_url)\n",
    "        player_list = r.json()[\"response\"][\"players\"]\n",
    "        \n",
    "        for player in player_list:\n",
    "            player[\"year_month\"] = year_month_str\n",
    "        users_tb.insert_multiple(player_list)\n",
    "        result += player_list\n",
    "    print(f\"Retrieved {len(result)} user(s) succesfully.\")\n",
    "    return result\n",
    "\n",
    "\n",
    "    "
   ]
  },
  {
   "cell_type": "markdown",
   "id": "440e84c4-5677-48d7-9ad7-f8cf311e76bb",
   "metadata": {},
   "source": [
    "## Test to Retrieve Player Data\n",
    "\n",
    "Now, we will fetch information for the given `steam_player_id`. Check out if the `personaname` matches your profile!"
   ]
  },
  {
   "cell_type": "code",
   "execution_count": null,
   "id": "8a012344-a19e-4bbd-a172-ac774cfd79e7",
   "metadata": {},
   "outputs": [],
   "source": [
    "# Retrieves current user data\n",
    "player_data = get_player_data(PLAYER_ID, year_month_str)[0]"
   ]
  },
  {
   "cell_type": "code",
   "execution_count": null,
   "id": "9f2b143e-53a4-407a-a66f-f87152fb2cd7",
   "metadata": {},
   "outputs": [],
   "source": [
    "def get_friend_list(player_id, year_month:str=None)->List[str]:\n",
    "    \"\"\"\n",
    "    Returns the list of steam ids for a given player id.\n",
    "    Caches the friend list for 2 weeks.\n",
    "    \"\"\"\n",
    "    existing_friend_list = []\n",
    "    \n",
    "    if year_month:\n",
    "        print(\"Attempting to retrieve friend list from DB...\")\n",
    "        friend_query = Query()\n",
    "        existing_friend_list_query = friend_list_tb.search((friend_query.steam_id == player_id) & (friend_query.year_month == year_month))\n",
    "        existing_friend_list = existing_friend_list_query[0] if len(existing_friend_list_query) > 0 else None\n",
    "        if existing_friend_list:\n",
    "            print(f\"Found a record in DB with size {len(existing_friend_list)}\")\n",
    "    if not existing_friend_list:\n",
    "        print(\"Friend List not found in the DB, using the API.\")\n",
    "        friend_list_url = f\"http://api.steampowered.com/ISteamUser/GetFriendList/v0001/?key={STEAM_KEY}&steamid={player_id}&relationship=friend\"\n",
    "        r = requests.get(friend_list_url)\n",
    "        friend_list_response = r.json()\n",
    "        friend_list_element = friend_list_response.get(\"friendslist\")\n",
    "        if not friend_list_element:\n",
    "            print(f\"No friend list information was retrieved - Response =>  {friend_list_response}\")\n",
    "            friend_ids = None\n",
    "        else:\n",
    "            friend_list_from_response = friend_list_element[\"friends\"]\n",
    "            friend_ids = [ item[\"steamid\"] for item in friend_list_from_response]\n",
    "    \n",
    "        # saves to DB\n",
    "        friend_list_tb.insert({\n",
    "            \"steam_id\": player_id,\n",
    "            \"friend_ids\":friend_ids,\n",
    "            \"year_month\": year_month_str\n",
    "        })\n",
    "\n",
    "        return friend_ids\n",
    "    return existing_friend_list[\"friend_ids\"]\n",
    "\n"
   ]
  },
  {
   "cell_type": "markdown",
   "id": "078ec08c-89ec-4bca-a96a-1272d545fe28",
   "metadata": {},
   "source": [
    "## Friend List Information\n",
    "\n",
    "Now we will fetch information about all your friends and save it in a Dataframe."
   ]
  },
  {
   "cell_type": "code",
   "execution_count": null,
   "id": "d3d83a74-893c-498d-8c48-511721945f77",
   "metadata": {},
   "outputs": [],
   "source": [
    "friend_list_ids = get_friend_list(PLAYER_ID, year_month_str)\n",
    "if friend_list_ids:\n",
    "    friends_data = get_player_data(\",\".join(friend_list_ids), year_month_str)\n",
    "    friends_df = pd.DataFrame.from_dict(friends_data + [player_data])\n",
    "    friends_df[\"last_year_online\"] = friends_df[\"lastlogoff\"].apply(lambda x: dt.datetime.fromtimestamp(x).year if not math.isnan(x) else 0)\n",
    "    friends_df[\"loccountrycode\"] = friends_df[\"loccountrycode\"].fillna(\"Not Informed\")\n",
    "    FRIEND_LIST_AVAILABLE = True\n",
    "else:\n",
    "    friends_df = pd.DataFrame()\n",
    "    FRIEND_LIST_AVAILABLE = False\n",
    "    print(\"Friend List is not available for this steam id.\")"
   ]
  },
  {
   "cell_type": "raw",
   "id": "de414672-3f5a-47b1-b412-78cd9a36c209",
   "metadata": {},
   "source": [
    "friends_df.groupby(\"steamid\").count().sort_values(\"personaname\",ascending=False)"
   ]
  },
  {
   "cell_type": "markdown",
   "id": "29afa86b-a70e-437d-8666-5873e2f8c3ea",
   "metadata": {},
   "source": [
    "### Friend Count per Country\n",
    "\n",
    "If your friends provided information about their country, it will be grouped and counted."
   ]
  },
  {
   "cell_type": "code",
   "execution_count": null,
   "id": "f30defe8-005e-449b-a8fc-f7005d7fcefa",
   "metadata": {},
   "outputs": [],
   "source": [
    "# Count Friends by Country\n",
    "if FRIEND_LIST_AVAILABLE:\n",
    "    fig = px.histogram(friends_df, x=\"loccountrycode\", color=\"loccountrycode\",\n",
    "                        labels={\n",
    "                            \"loccountrycode\":\"Country Code\"\n",
    "                        },\n",
    "                        title=\"Friends per Country\",\n",
    "                        color_discrete_sequence=px.colors.qualitative.Pastel,\n",
    "                        width=640,\n",
    "                        height=480)\n",
    "    fig.show()"
   ]
  },
  {
   "cell_type": "markdown",
   "id": "a3041c2e-b7b0-4690-beb8-51f85cd16ff9",
   "metadata": {},
   "source": [
    "### Last Time Seen\n",
    "\n",
    "This graph the year your friends were last seen online.\n",
    "Maybe you should call and check on some of them? =D"
   ]
  },
  {
   "cell_type": "code",
   "execution_count": null,
   "id": "88ed4c3b-d7c9-4378-94c6-81b0be8664ac",
   "metadata": {},
   "outputs": [],
   "source": [
    "# Last Seen\n",
    "if FRIEND_LIST_AVAILABLE:\n",
    "    fig = px.histogram(friends_df, x=\"last_year_online\", color=\"last_year_online\",\n",
    "            labels={\n",
    "                \"last_year_online\":\"Year\"\n",
    "            },\n",
    "            title=\"Year Last Seen\",\n",
    "            color_discrete_sequence=px.colors.qualitative.Pastel,\n",
    "            width=640,\n",
    "            height=480)\n",
    "    fig.update_layout(bargap=0.2)\n",
    "    fig.show()"
   ]
  },
  {
   "cell_type": "code",
   "execution_count": null,
   "id": "b47c9367-5cae-49ab-a56a-3c214db7c947",
   "metadata": {},
   "outputs": [],
   "source": [
    "def fetch_gameplay_info(player_ids:str, year_month:str=None):\n",
    "    \"\"\"\n",
    "    Fetches the list of games and played time for a player id.\n",
    "    \"\"\"\n",
    "    id_list = player_ids.split(\",\")\n",
    "    missing_steam_ids = []\n",
    "    result = []\n",
    "    if year_month:\n",
    "        gameplay_query = Query()\n",
    "        gameplay_list = gameplay_tb.search((gameplay_query.player_id.one_of(id_list))&(gameplay_query.year_month == year_month))\n",
    "        retrieved_id_list = [gameplay[\"player_id\"] for gameplay in gameplay_list]\n",
    "        missing_steam_ids += [player_id for player_id in id_list if player_id not in retrieved_id_list ]\n",
    "        result += gameplay_list\n",
    "    else:\n",
    "        missing_steam_ids = id_list.copy()\n",
    "    print(f\"Found {len(result)} gameplay entries in DB.\")\n",
    "    print(f\"Fetching {len(missing_steam_ids)} entries from API.\")\n",
    "    if missing_steam_ids:\n",
    "        for idx,player_id in enumerate(id_list):\n",
    "            if idx%50 == 0 :\n",
    "                print(f\"Current steam_id number - {idx}\")\n",
    "            player_game_list_url = f\"http://api.steampowered.com/IPlayerService/GetOwnedGames/v0001/?key={STEAM_KEY}&steamid={player_id}&format=json\"\n",
    "            r = requests.get(player_game_list_url)\n",
    "            player_game_list_response = r.json()\n",
    "            response_content = player_game_list_response[\"response\"]\n",
    "            gameplay = response_content[\"games\"] if response_content else []\n",
    "            for entry in gameplay:\n",
    "                entry.update({\n",
    "                    \"player_id\":player_id,\n",
    "                    \"year_month\":year_month_str\n",
    "                })\n",
    "            if year_month:\n",
    "                gameplay_tb.insert_multiple(gameplay)\n",
    "            result += gameplay\n",
    "\n",
    "    return result\n",
    "\n"
   ]
  },
  {
   "cell_type": "code",
   "execution_count": null,
   "id": "ceb5b408-e867-422b-a7bf-d785bb43290a",
   "metadata": {},
   "outputs": [],
   "source": [
    "def get_game_details(appids:List[int]):\n",
    "    \"\"\"\n",
    "    Retrieves game details from the local DB or from Steam.\n",
    "    \"\"\"\n",
    "    game_query = Query()\n",
    "    result = []\n",
    "    missing_game_details = []\n",
    "    existing_game_details = games_tb.search(game_query.appid.one_of(appids))\n",
    "    if existing_game_details:\n",
    "        for game_details in existing_game_details:\n",
    "            if game_details.get(\"success\") == True:\n",
    "                result.append(game_details)\n",
    "            elif game_details.get(\"success\") is None:\n",
    "                games_tb.update({\"success\":True},(game_query.appid == game_details[\"appid\"]))\n",
    "        found_game_detail_ids = [ game_detail[\"appid\"] for game_detail in existing_game_details ]\n",
    "        missing_game_details += [ game_id for game_id in found_game_detail_ids if game_id not in appids]\n",
    "    else:\n",
    "        missing_game_details += appids\n",
    "        \n",
    "    if missing_game_details:\n",
    "        for missing_game_id in missing_game_details:\n",
    "            print(f\"Game Details for {str(appid)} NOT found in DB.\")\n",
    "            time.sleep(0.7)  # had to add this because the request were being blocked.\n",
    "            game_details_url = f\"http://store.steampowered.com/api/appdetails?appids={appid}\"\n",
    "            r = requests.get(game_details_url)\n",
    "            response_json = r.json()\n",
    "            # print(response_json)\n",
    "            if (response_json[str(appid)]['success'] == 'true' or response_json[str(appid)]['success'] == True):\n",
    "                print(f\"Saving to DB.\")\n",
    "                game_data = response_json[str(appid)]['data']\n",
    "                game_data.update({\n",
    "                    \"appid\":appid,\n",
    "                    \"success\":True})\n",
    "                games_tb.insert(game_data)\n",
    "                result.append(game_data)\n",
    "            else:\n",
    "                print(f\"Saving failed record to DB - {response_json}\")\n",
    "                games_tb.insert({\n",
    "                    \"success\":False,\n",
    "                    \"appid\":appid,\n",
    "                })\n",
    "    return result\n",
    "\n",
    "    "
   ]
  },
  {
   "cell_type": "code",
   "execution_count": null,
   "id": "b2366125-3dab-47a5-8df1-e27b5d64c4ce",
   "metadata": {},
   "outputs": [],
   "source": [
    "def build_df_for_users(player_ids:str, who_is:str=None,year_month:str=None ):\n",
    "\n",
    "    def extract_release_year(date_dic:dict):\n",
    "        if type(date_dic)==dict and date_dic[\"date\"]:\n",
    "            result_date = None\n",
    "            try:\n",
    "                result_date = dt.datetime.strptime(date_dic[\"date\"],\"%d %b, %Y\")\n",
    "            except ValueError:\n",
    "                try:\n",
    "                    result_date = dt.datetime.strptime(date_dic[\"date\"],\"%b %d, %Y\")\n",
    "                except ValueError:\n",
    "                    try:\n",
    "                        result_date = dt.datetime.strptime(date_dic[\"date\"],\"%d %b %Y\")\n",
    "                    except ValueError:\n",
    "                        return None\n",
    "            return int(result_date.year)\n",
    "\n",
    "    \n",
    "    all_gameplay_list = fetch_gameplay_info(player_ids,year_month)\n",
    "    print(f\"Found {len(all_gameplay_list)} gameplay entries.\")\n",
    "    \n",
    "    \n",
    "    if not all_gameplay_list:\n",
    "        return pd.DataFrame()\n",
    "\n",
    "    game_id_list = list(set([entry[\"appid\"] for entry in all_gameplay_list]))\n",
    "    print(f\"Total games - {len(game_id_list)}\")\n",
    "    game_details_list = []\n",
    "\n",
    "    game_data_list = get_game_details(game_id_list)\n",
    "\n",
    "    for game_data in game_data_list:\n",
    "  \n",
    "        game_info = {\n",
    "            \"appid\": game_data[\"appid\"],\n",
    "            \"name\": game_data[\"name\"],\n",
    "            \"genres\": game_data.get(\"genres\"),\n",
    "            \"metacritic\":game_data.get(\"metacritic\"),\n",
    "            \"short_description\":game_data.get(\"short_description\"),\n",
    "            \"header_image\":game_data.get(\"header_image\"),\n",
    "            \"categories\":game_data.get(\"categories\"),\n",
    "            \"release_date\":game_data.get(\"release_date\"),\n",
    "            \"content_descriptors\":game_data.get(\"content_descriptors\"),\n",
    "            \"developers\":game_data.get(\"developers\"),\n",
    "            \"publishers\":game_data.get(\"publishers\")\n",
    "        }\n",
    "\n",
    "        if who_is:\n",
    "            game_info.update({\n",
    "            \"who_is\": who_is\n",
    "        })\n",
    "        game_details_list.append(game_info)\n",
    "            \n",
    "    print(\"Done Fetching data.\")\n",
    "    gameplay_df = pd.DataFrame.from_dict(all_gameplay_list)\n",
    "    game_info_df = pd.DataFrame.from_dict(game_details_list)\n",
    "    result = pd.merge(gameplay_df,game_info_df, how=\"left\",left_on=\"appid\",right_on=\"appid\")\n",
    "\n",
    "\n",
    "    result[\"metacritic_score\"] = result[\"metacritic\"].apply(lambda x: x[\"score\"] if type(x)==dict else None)\n",
    "    result[\"release_year\"] = result[\"release_date\"].apply(extract_release_year)\n",
    "    result[\"release_year\"] = result[\"release_year\"].fillna(0.0).astype(int)\n",
    "    result[\"release_year\"].replace(0, np.nan, inplace=True)\n",
    "    result[\"pc_developer\"] = result[\"developers\"].apply(lambda x: x[0] if type(x)==list else None)\n",
    "    result[\"genres_list\"] = result[\"genres\"].apply(lambda x: [item[\"description\"] for item in x] if type(x)==list else None)\n",
    "\n",
    "    return result\n",
    "\n",
    "        "
   ]
  },
  {
   "cell_type": "markdown",
   "id": "06b52a82-04a8-41d6-a9a2-bd00e7c4d025",
   "metadata": {},
   "source": [
    "## Gameplay Information\n",
    "\n",
    "Now we will start fetching information about your games and gameplay.\n",
    "First we see what is the release year of your games."
   ]
  },
  {
   "cell_type": "code",
   "execution_count": null,
   "id": "119694ac-32d7-4a4a-bbd1-d15c926de7bb",
   "metadata": {},
   "outputs": [],
   "source": [
    "gameplay_df = build_df_for_users(PLAYER_ID, year_month=year_month_str, who_is=\"me\") \n",
    "# gameplay_df = build_df_for_user(76561198021990176)"
   ]
  },
  {
   "cell_type": "code",
   "execution_count": null,
   "id": "68108833-e5be-4ea5-adc7-5859914feb6e",
   "metadata": {},
   "outputs": [],
   "source": [
    "exploded_genre_list = gameplay_df[[\"name\",\"genres_list\",\"playtime_forever\"]].explode(\"genres_list\")\n",
    "exploded_genre_list[\"playtime_forever\"] = exploded_genre_list[\"playtime_forever\"].apply(lambda x: x//60)\n",
    "exploded_genre_list.reset_index(inplace=True)\n",
    "top_10_count_by_genre = exploded_genre_list.groupby(['genres_list'])\\\n",
    "    .agg({'genres_list':'count'})\\\n",
    "    .rename(columns={'genres_list':'count_genres_list'})\\\n",
    "    .sort_values('count_genres_list', ascending=False)\\\n",
    "    .head(10).copy()"
   ]
  },
  {
   "cell_type": "code",
   "execution_count": null,
   "id": "80513fb8-6a3c-4ae0-97a2-810bbfdcec6b",
   "metadata": {},
   "outputs": [],
   "source": [
    "top_10_count_by_genre = top_10_count_by_genre.reset_index()\n",
    "fig = px.bar(top_10_count_by_genre, x='count_genres_list', y='genres_list', color=\"genres_list\",\n",
    "            labels={\n",
    "                \"count_genres_list\":\"Count of Games\",\n",
    "                \"genres_list\":\"Genre\"\n",
    "            },\n",
    "            title=\"Count of Games by Genre\",\n",
    "            color_discrete_sequence=px.colors.qualitative.Pastel,\n",
    "            width=640,\n",
    "            height=480)\n",
    "fig.update_layout(showlegend=False)\n",
    "fig.show()"
   ]
  },
  {
   "cell_type": "code",
   "execution_count": null,
   "id": "d11f3a2a-02a4-4a9e-b079-6bd0efe150fc",
   "metadata": {},
   "outputs": [],
   "source": [
    "top_10_playtime_by_genre = exploded_genre_list.groupby(['genres_list'])\\\n",
    "    .agg({'playtime_forever':'sum'})\\\n",
    "    .rename(columns={'playtime_forever':'sum_playtime_forever'})\\\n",
    "    .sort_values('sum_playtime_forever', ascending=False)\\\n",
    "    .head(10).copy()\n",
    "top_10_playtime_by_genre = top_10_playtime_by_genre.reset_index()\n",
    "fig = px.bar(top_10_playtime_by_genre, x='sum_playtime_forever', y='genres_list', color=\"genres_list\",\n",
    "            labels={\n",
    "                \"sum_playtime_forever\":\"Playtime in hours\",\n",
    "                \"genres_list\":\"Genre\"\n",
    "            },\n",
    "            title=\"Total Playtime by Genre\",\n",
    "            color_discrete_sequence=px.colors.qualitative.Pastel,\n",
    "            width=640,\n",
    "            height=480)\n",
    "fig.update_layout(showlegend=False)\n",
    "fig.show()"
   ]
  },
  {
   "cell_type": "code",
   "execution_count": null,
   "id": "334d8762-4595-4ace-bcb3-f6fa57ee50a9",
   "metadata": {},
   "outputs": [],
   "source": [
    "# Count By Release Year\n",
    "fig = px.histogram(gameplay_df[gameplay_df[\"release_year\"]>0], x=\"release_year\", color=\"release_year\",\n",
    "        labels={\n",
    "            \"release_year\":\"Year\"\n",
    "        },\n",
    "        title=\"Games by Year Released\",\n",
    "        color_discrete_sequence=px.colors.qualitative.Pastel,\n",
    "        width=640,\n",
    "        height=480)\n",
    "fig.update_layout(showlegend=False)\n",
    "fig.update_layout(bargap=0.2)\n",
    "fig.show()"
   ]
  },
  {
   "cell_type": "markdown",
   "id": "8adbb2e9-8579-4962-a518-84a081d2f373",
   "metadata": {},
   "source": [
    "### My Top 10 Games by Play Time\n",
    "The next graph will list the top 10 games by playtime in hours."
   ]
  },
  {
   "cell_type": "code",
   "execution_count": null,
   "id": "943b2924-24ee-44bd-86c3-25a89ba40219",
   "metadata": {},
   "outputs": [],
   "source": [
    "# My top 10 Games by Play Time\n",
    "\n",
    "my_top_10 = gameplay_df.sort_values(\"playtime_forever\", ascending=False).head(10).copy()\n",
    "my_top_10[\"playtime_forever\"] = my_top_10[\"playtime_forever\"].apply(lambda x: x//60)\n",
    "fig = px.bar(my_top_10, x='playtime_forever', y='name', color=\"name\",\n",
    "            labels={\n",
    "                \"playtime_forever\":\"Playtime in Hours\",\n",
    "                \"name\":\"Game Name\"\n",
    "            },\n",
    "            title=\"Top 10 Most Played Games\",\n",
    "            color_discrete_sequence=px.colors.qualitative.Pastel,\n",
    "            width=960,\n",
    "            height=480)\n",
    "fig.update_layout(showlegend=False)\n",
    "fig.show()"
   ]
  },
  {
   "cell_type": "markdown",
   "id": "76f0e38f-57b7-4dbe-9263-93baa6d48190",
   "metadata": {},
   "source": [
    "### Gameplay Time by Release Year and Metacritic\n",
    "\n",
    "This next graph show how many minutes you spent on each game divided by the release year, and the color shows the metacritic score.\n",
    "This way you can see where you spent your precious time!"
   ]
  },
  {
   "cell_type": "code",
   "execution_count": null,
   "id": "600e1748-753d-4da4-9ec5-a16a58f085e2",
   "metadata": {},
   "outputs": [],
   "source": [
    "\n",
    "fig = px.scatter(gameplay_df[(gameplay_df[\"playtime_forever\"]>30)&(gameplay_df[\"metacritic_score\"].notnull())], x=\"release_year\", y=\"playtime_forever\",\n",
    "                 color=\"metacritic_score\",\n",
    "                 hover_data=['metacritic_score', 'release_year', 'playtime_forever','name'],\n",
    "                labels={\n",
    "                \"name\": \"Game\",\n",
    "                \"release_year\":\"Release Year\",\n",
    "                \"playtime_forever\":\"Play Time in Minutes\",\n",
    "                \"metacritic_score\":\"Metacritic\"\n",
    "                },\n",
    "                title=\"Playtime by Game Release Year and Metacritic Score\",\n",
    "                color_continuous_scale=\"bluered\",\n",
    "                width=640,\n",
    "                height=480)\n",
    "fig.show()\n"
   ]
  },
  {
   "cell_type": "markdown",
   "id": "7304e1b6-8a9b-4312-a841-8a62f1546e44",
   "metadata": {},
   "source": [
    "### Count By Metacritic Score\n",
    "Now we will count how many games you have for each Metacritic score."
   ]
  },
  {
   "cell_type": "code",
   "execution_count": null,
   "id": "2736adb0-6e31-433d-8e90-fe208bfe4954",
   "metadata": {},
   "outputs": [],
   "source": [
    "# Count by Metacritic\n",
    "fig = px.histogram(gameplay_df, x=\"metacritic_score\", color=\"metacritic_score\",\n",
    "        labels={\n",
    "            \"metacritic_score\":\"Metacritic Score\"\n",
    "        },\n",
    "        title=\"Game Count by Metacritic Score\",\n",
    "        color_discrete_sequence=px.colors.qualitative.Pastel,\n",
    "        width=640,\n",
    "        height=480)\n",
    "fig.update_layout(showlegend=False)\n",
    "fig.update_layout(bargap=0.2)\n",
    "fig.show()"
   ]
  },
  {
   "cell_type": "markdown",
   "id": "2495ae62-6eb6-4f5d-8514-903a1efba318",
   "metadata": {},
   "source": [
    "### Top 10 Game Count per Developer\n",
    "This Graph will show the top 10 game count per developer in your Steam account."
   ]
  },
  {
   "cell_type": "code",
   "execution_count": null,
   "id": "97c5bd0d-3fb2-4fbb-8237-e40ff50bb106",
   "metadata": {},
   "outputs": [],
   "source": [
    "# Top 10 count by developer\n",
    "count_by_developer_df = gameplay_df.groupby(['pc_developer'])\\\n",
    "    .agg({'pc_developer':'count'})\\\n",
    "    .rename(columns={'pc_developer':'count_pc_developer'})\\\n",
    "    .sort_values('count_pc_developer', ascending=False)\\\n",
    "    .head(10)"
   ]
  },
  {
   "cell_type": "code",
   "execution_count": null,
   "id": "ede80b53-8e21-4a31-8d08-3bbf0432bde5",
   "metadata": {},
   "outputs": [],
   "source": [
    "fig = px.bar(count_by_developer_df.reset_index(), x='count_pc_developer', y='pc_developer', color=\"pc_developer\",\n",
    "            labels={\n",
    "                \"count_pc_developer\":\"Count of Games\",\n",
    "                \"pc_developer\":\"Developer\"\n",
    "            },\n",
    "            title=\"Count of Games per Developer\",\n",
    "            color_discrete_sequence=px.colors.qualitative.Pastel,\n",
    "            width=640,\n",
    "            height=480)\n",
    "fig.update_layout(showlegend=False)\n",
    "fig.show()"
   ]
  },
  {
   "cell_type": "markdown",
   "id": "2429ebb9-d928-4382-9f31-c79980b7635a",
   "metadata": {},
   "source": [
    "### Playtime by Developer\n",
    "\n",
    "This next graph will show the top 10 list of how many hours you spent playing titles from each game developer."
   ]
  },
  {
   "cell_type": "code",
   "execution_count": null,
   "id": "873abba3-5b49-4233-a004-270624c9c431",
   "metadata": {},
   "outputs": [],
   "source": [
    "# Top 10 playtime by developer\n",
    "count_by_developer_df = gameplay_df.groupby(['pc_developer'])\\\n",
    "    .agg({\"playtime_forever\":\"sum\"})\\\n",
    "    .rename(columns={'playtime_forever':'sum_playtime_forever'})\\\n",
    "    .sort_values('sum_playtime_forever', ascending=False)\\\n",
    "    .head(10)\n",
    "count_by_developer_df[\"sum_playtime_forever\"] = count_by_developer_df[\"sum_playtime_forever\"].apply(lambda x: x//60)"
   ]
  },
  {
   "cell_type": "code",
   "execution_count": null,
   "id": "51e6ef26-c8e1-42ea-8ac5-b5743813f083",
   "metadata": {},
   "outputs": [],
   "source": [
    "fig = px.bar(count_by_developer_df.reset_index(), x='sum_playtime_forever', y='pc_developer', color=\"pc_developer\",\n",
    "            labels={\n",
    "                \"sum_playtime_forever\":\"Playtime in Hours\",\n",
    "                \"pc_developer\":\"Developer\"\n",
    "            },\n",
    "            title=\"Playtime by Game Developer\",\n",
    "            color_discrete_sequence=px.colors.qualitative.Pastel,\n",
    "            width=640,\n",
    "            height=480)\n",
    "fig.update_layout(showlegend=False)\n",
    "fig.show()"
   ]
  },
  {
   "cell_type": "markdown",
   "id": "510297e9-c32a-4ac2-b6fe-19db5435f889",
   "metadata": {},
   "source": [
    "### Games you own but never play by Metacritic\n",
    "\n",
    "This next graph lists the 10 games you own, ordered by metacritic score, but never played enough - less than 30 minutes to be more precise.\n",
    "Maybe you can pick one of them in your next free time to explore?"
   ]
  },
  {
   "cell_type": "code",
   "execution_count": null,
   "id": "c3afc03d-36a2-4115-b52a-56c11743b836",
   "metadata": {},
   "outputs": [],
   "source": [
    "# Top 10 best rated in metacritid with less than 30 min\n",
    "unplayed_games_df = gameplay_df[gameplay_df[\"playtime_forever\"]<30]\\\n",
    "    .sort_values('metacritic_score', ascending=False)\\\n",
    "    .head(10)"
   ]
  },
  {
   "cell_type": "code",
   "execution_count": null,
   "id": "01879aae-7074-4d7d-8c9c-0286a6401fd3",
   "metadata": {},
   "outputs": [],
   "source": [
    "fig = px.bar(unplayed_games_df.reset_index(), x='metacritic_score', y='name', color=\"playtime_forever\",\n",
    "            labels={\n",
    "                \"name\":\"Game\",\n",
    "                \"metacritic_score\":\"Metacritic Score\"\n",
    "            },\n",
    "            title=\"Never Played Games by Metacritic\",\n",
    "            color_discrete_sequence=px.colors.qualitative.Pastel,\n",
    "            width=960,\n",
    "            height=480)\n",
    "fig.update_layout(showlegend=False)\n",
    "fig.show()"
   ]
  },
  {
   "cell_type": "markdown",
   "id": "52ce1668-21c6-4e13-82da-8c2cbc5e0f79",
   "metadata": {},
   "source": [
    "## Friends Gameplay Information\n",
    "\n",
    "This section will compare your progress in your Steam account in the current date with your friends.\n",
    "This can be a costly operation, since if the game information is not available in the DB, it will be fetched from Steam using the API, but this must be done one by one and there is a request limit, so it has a sleep function to avoid trespassing this limit.\n",
    "This can be enabled/disabled in the env file.\n",
    "\n"
   ]
  },
  {
   "cell_type": "code",
   "execution_count": null,
   "id": "f459def6-bfa1-48a5-9418-8ef069149d1a",
   "metadata": {},
   "outputs": [],
   "source": [
    "RUN_FRIENDS_STATS=True"
   ]
  },
  {
   "cell_type": "code",
   "execution_count": null,
   "id": "06e156bf-de46-4e56-a2be-76d003ddb5aa",
   "metadata": {},
   "outputs": [],
   "source": [
    "if RUN_FRIENDS_STATS and FRIEND_LIST_AVAILABLE:\n",
    "    all_gameplay_df = gameplay_df.copy()\n",
    "    friend_gameplay_df = build_df_for_users(\",\".join(friend_list_ids), who_is=\"friend\")\n",
    "    all_gameplay_df = pd.concat([all_gameplay_df,friend_gameplay_df])"
   ]
  },
  {
   "cell_type": "markdown",
   "id": "08b7ff81-f129-43a5-937a-fb91d2bbd76b",
   "metadata": {},
   "source": [
    "### My Top 5 Games by Playtime vs My Friend List\n",
    "\n",
    "The next graph to be evaluated is your top 5 games by total playtime in hours, compared with your friend list values.\n",
    "In this graph you can see if any of your friends is playing more time than you in your top 5."
   ]
  },
  {
   "cell_type": "code",
   "execution_count": null,
   "id": "dbc9f7de-9c79-4f10-9e4f-36a63f60ada4",
   "metadata": {},
   "outputs": [],
   "source": [
    "if RUN_FRIENDS_STATS and FRIEND_LIST_AVAILABLE:\n",
    "    final_gameplay_players_df = pd.merge(all_gameplay_df,friends_df[[\"steamid\",\"personaname\",\"realname\",\"loccountrycode\",\"timecreated\",\"last_year_online\",\"avatar\" ]], how=\"left\",left_on=\"player_id\",right_on=\"steamid\")\n",
    "    my_top_5 = gameplay_df.sort_values(\"playtime_forever\", ascending=False).head(5)[\"name\"]\n",
    "    played_all_gameplay_df = final_gameplay_players_df[final_gameplay_players_df[\"playtime_forever\"] > 60].copy()\n",
    "    played_all_gameplay_df[\"playtime_forever\"] = played_all_gameplay_df[\"playtime_forever\"].apply(lambda x: x//60)\n",
    "    \n"
   ]
  },
  {
   "cell_type": "code",
   "execution_count": null,
   "id": "e574b51b-5084-4073-9e44-f3e3f045c53f",
   "metadata": {},
   "outputs": [],
   "source": [
    "played_all_gameplay_df.columns"
   ]
  },
  {
   "cell_type": "code",
   "execution_count": null,
   "id": "b539ef05-d87f-4a94-9ba7-c24339502b51",
   "metadata": {},
   "outputs": [],
   "source": [
    "if RUN_FRIENDS_STATS and FRIEND_LIST_AVAILABLE:\n",
    "    fig = px.strip(played_all_gameplay_df[played_all_gameplay_df[\"name\"].isin(my_top_5)], \n",
    "                        x=\"playtime_forever\", y=\"name\", color='who_is',\n",
    "                       hover_data=[  'playtime_forever','personaname'],\n",
    "                        labels={\n",
    "                        \"personaname\":\"Steam Name\",\n",
    "                        \"who_is\":\"Friend\",\n",
    "                        \"name\":\"Game\",\n",
    "                        \"playtime_forever\":\"Playtime in Hours\"\n",
    "                        },\n",
    "                        title=\"My Top 5 Games by Playtime\",\n",
    "                        color_discrete_sequence=px.colors.qualitative.Pastel,\n",
    "                        width=640,\n",
    "                        height=480)\n",
    "    fig.show()"
   ]
  },
  {
   "cell_type": "markdown",
   "id": "dbc2e30b-1396-420d-a958-a1db7f85a0e1",
   "metadata": {},
   "source": [
    "### Who played the most so far?\n",
    "\n",
    "This next graph will show the top 10 of your friends by total playtime (yourself included).\n"
   ]
  },
  {
   "cell_type": "code",
   "execution_count": null,
   "id": "919575fe-7dd9-4635-8867-10219fd635de",
   "metadata": {},
   "outputs": [],
   "source": [
    "if RUN_FRIENDS_STATS and FRIEND_LIST_AVAILABLE:\n",
    "    # Merge DFs\n",
    "    final_gameplay_players_df = pd.merge(all_gameplay_df,friends_df[[\"steamid\",\"personaname\",\"realname\",\"loccountrycode\",\"timecreated\",\"last_year_online\",\"avatar\" ]], how=\"left\",left_on=\"player_id\",right_on=\"steamid\")\n"
   ]
  },
  {
   "cell_type": "code",
   "execution_count": null,
   "id": "f96c4acf-c25c-48ed-9654-58977ea21f5a",
   "metadata": {},
   "outputs": [],
   "source": [
    "if RUN_FRIENDS_STATS and FRIEND_LIST_AVAILABLE:\n",
    "    top_10_gameplay = final_gameplay_players_df.groupby(['steamid','personaname'], as_index=False)\\\n",
    "        .agg({\"playtime_forever\":\"sum\"}, axis=\"columns\")\\\n",
    "        .sort_values(ascending=False, by=\"playtime_forever\")\\\n",
    "        .head(10)\n",
    "    top_10_gameplay[\"playtime_forever\"] = top_10_gameplay[\"playtime_forever\"].apply(lambda x: x//60)\n"
   ]
  },
  {
   "cell_type": "code",
   "execution_count": null,
   "id": "640f0f83-7763-4f77-9172-53fbfabf4bf3",
   "metadata": {},
   "outputs": [],
   "source": [
    "if RUN_FRIENDS_STATS and FRIEND_LIST_AVAILABLE:\n",
    "    fig = px.bar(top_10_gameplay.reset_index(), x='playtime_forever', y='personaname', color=\"personaname\",\n",
    "                labels={\n",
    "                    \"playtime_forever\":\"Playtime in Hours\",\n",
    "                    \"personaname\":\"Steam Name\"\n",
    "                },\n",
    "                title=\"Who played the most?\",\n",
    "                color_discrete_sequence=px.colors.qualitative.Pastel,\n",
    "                width=640,\n",
    "                height=480)\n",
    "    fig.update_layout(showlegend=False)\n",
    "    fig.show()"
   ]
  },
  {
   "cell_type": "code",
   "execution_count": null,
   "id": "59728262-6f44-4786-b8b5-522f34fe6d05",
   "metadata": {},
   "outputs": [],
   "source": [
    "if CLEAN_USER_DB:\n",
    "    print(\"Removing User Data\")\n",
    "    users_tb.truncate()\n",
    "    print(f\"Users size is {len(users_tb)}\")\n",
    "    friend_list_tb.truncate()\n",
    "    print(f\"Friend List size is {len(friend_list_tb)}\")\n",
    "if CLEAN_GAMEPLAY_DB:\n",
    "    print(\"Removing Gameplay Data\")\n",
    "    gameplay_tb.truncate()\n",
    "    print(f\"Gameplay List size is {len(gameplay_tb)}\")\n",
    "    "
   ]
  },
  {
   "cell_type": "code",
   "execution_count": null,
   "id": "91ac4b01-b583-4411-a15d-7951e513d98a",
   "metadata": {},
   "outputs": [],
   "source": []
  }
 ],
 "metadata": {
  "kernelspec": {
   "display_name": "Python 3 (ipykernel)",
   "language": "python",
   "name": "python3"
  },
  "language_info": {
   "codemirror_mode": {
    "name": "ipython",
    "version": 3
   },
   "file_extension": ".py",
   "mimetype": "text/x-python",
   "name": "python",
   "nbconvert_exporter": "python",
   "pygments_lexer": "ipython3",
   "version": "3.10.12"
  }
 },
 "nbformat": 4,
 "nbformat_minor": 5
}
